{
 "cells": [
  {
   "cell_type": "code",
   "execution_count": 1,
   "id": "291be2d1-21d2-4690-9100-e1cafc712882",
   "metadata": {
    "tags": []
   },
   "outputs": [
    {
     "name": "stderr",
     "output_type": "stream",
     "text": [
      "/home/users/amarvenu/miniconda3/envs/nlp/lib/python3.9/site-packages/tqdm/auto.py:22: TqdmWarning: IProgress not found. Please update jupyter and ipywidgets. See https://ipywidgets.readthedocs.io/en/stable/user_install.html\n",
      "  from .autonotebook import tqdm as notebook_tqdm\n"
     ]
    }
   ],
   "source": [
    "import pandas as pd\n",
    "import numpy as np\n",
    "from gensim.models import LdaModel, LdaSeqModel, CoherenceModel\n",
    "from gensim.corpora.dictionary import Dictionary\n",
    "from gensim.test.utils import datapath\n",
    "from gensim.models.wrappers.dtmmodel import DtmModel\n",
    "from tqdm import tqdm\n",
    "from analysis_utils import topic_diversity"
   ]
  },
  {
   "cell_type": "code",
   "execution_count": 2,
   "id": "71aee466-87c1-444b-b348-0ed2e5159ea6",
   "metadata": {
    "tags": []
   },
   "outputs": [],
   "source": [
    "df = pd.read_parquet('data/combined_clean.parquet')"
   ]
  },
  {
   "cell_type": "code",
   "execution_count": 3,
   "id": "fd657d30-542b-4b5d-8211-8025408b7f88",
   "metadata": {
    "tags": []
   },
   "outputs": [
    {
     "data": {
      "text/plain": [
       "type\n",
       "fomc_statement     195\n",
       "speech            1455\n",
       "Name: text, dtype: int64"
      ]
     },
     "execution_count": 3,
     "metadata": {},
     "output_type": "execute_result"
    }
   ],
   "source": [
    "df.groupby('type').text.count()"
   ]
  },
  {
   "cell_type": "code",
   "execution_count": 4,
   "id": "9563dbe3-c64e-441d-b703-269945544a26",
   "metadata": {
    "tags": []
   },
   "outputs": [],
   "source": [
    "split_text = df['filtered_text'].str.split().values"
   ]
  },
  {
   "cell_type": "code",
   "execution_count": 5,
   "id": "7a7bfd0c-6cc4-40be-ae71-fd932e321359",
   "metadata": {
    "tags": []
   },
   "outputs": [],
   "source": [
    "#dictionary = Dictionary(split_text)\n",
    "id2word = Dictionary(split_text)\n",
    "corpus = [id2word.doc2bow(text) for text in split_text]"
   ]
  },
  {
   "cell_type": "code",
   "execution_count": 6,
   "id": "a61435e3-50c6-4d03-a666-8ba503160e60",
   "metadata": {},
   "outputs": [],
   "source": [
    "id2word.save('dict_save')"
   ]
  },
  {
   "cell_type": "code",
   "execution_count": 6,
   "id": "caa85137-5dbc-4861-b977-6d46b03115b3",
   "metadata": {},
   "outputs": [
    {
     "data": {
      "text/plain": [
       "4938"
      ]
     },
     "execution_count": 6,
     "metadata": {},
     "output_type": "execute_result"
    }
   ],
   "source": [
    "len(id2word)"
   ]
  },
  {
   "cell_type": "markdown",
   "id": "ca735aae-c9e7-468b-a450-f714f9ae432c",
   "metadata": {},
   "source": [
    "## Dynamic LDA"
   ]
  },
  {
   "cell_type": "code",
   "execution_count": 7,
   "id": "e8c9a87d-d7ab-4150-b7af-8e5d1cf45a6f",
   "metadata": {},
   "outputs": [
    {
     "data": {
      "text/plain": [
       "[716, 546, 201, 187]"
      ]
     },
     "execution_count": 7,
     "metadata": {},
     "output_type": "execute_result"
    }
   ],
   "source": [
    "time_slice = df.groupby('slice').date.count().tolist()\n",
    "time_slice"
   ]
  },
  {
   "cell_type": "code",
   "execution_count": 13,
   "id": "b0a8cee6-28b7-4fed-a497-61390409b556",
   "metadata": {},
   "outputs": [
    {
     "name": "stdout",
     "output_type": "stream",
     "text": [
      "CPU times: user 950 ms, sys: 138 ms, total: 1.09 s\n",
      "Wall time: 16min 40s\n"
     ]
    }
   ],
   "source": [
    "%%time\n",
    "model = DtmModel(\n",
    "    dtm_path=\"/home/users/amarvenu/workspace/cs224n/fed_detm/dtm-linux64\", \n",
    "    corpus=corpus, \n",
    "    id2word=id2word, \n",
    "    time_slices=time_slice,\n",
    "    num_topics=10,\n",
    "    mode='fit',\n",
    "    model='dtm',\n",
    "    rng_seed=2\n",
    ")"
   ]
  },
  {
   "cell_type": "code",
   "execution_count": 14,
   "id": "bfded619-66fb-486c-b3cd-701122bf128c",
   "metadata": {},
   "outputs": [],
   "source": [
    "model.save('dtm_model_trained_t10_govslice')"
   ]
  },
  {
   "cell_type": "code",
   "execution_count": 17,
   "id": "8be75504-d565-4a09-ad8c-82d052edd57c",
   "metadata": {},
   "outputs": [
    {
     "name": "stderr",
     "output_type": "stream",
     "text": [
      "  0%|          | 0/4 [00:00<?, ?it/s]/home/users/amarvenu/miniconda3/envs/nlp/lib/python3.9/site-packages/gensim/models/wrappers/dtmmodel.py:498: UserWarning: The parameter `num_words` is deprecated, will be removed in 4.0.0, use `topn` instead.\n",
      "  warnings.warn(\"The parameter `num_words` is deprecated, will be removed in 4.0.0, use `topn` instead.\")\n",
      "100%|██████████| 4/4 [00:42<00:00, 10.51s/it]\n"
     ]
    }
   ],
   "source": [
    "coherences = []\n",
    "for t in tqdm(range(4)):\n",
    "    coherences.append(\n",
    "        CoherenceModel(\n",
    "            topics=model.dtm_coherence(t), \n",
    "            texts=split_text, \n",
    "            dictionary=id2word, \n",
    "            coherence='c_v'\n",
    "        ).get_coherence()\n",
    "    )\n",
    "    \n",
    "coherences = np.array(coherences)"
   ]
  },
  {
   "cell_type": "code",
   "execution_count": 24,
   "id": "1c4ed4ea-b0ea-4e77-a1b1-d8da06c450fa",
   "metadata": {},
   "outputs": [
    {
     "name": "stderr",
     "output_type": "stream",
     "text": [
      "  0%|          | 0/4 [00:00<?, ?it/s]/home/users/amarvenu/miniconda3/envs/nlp/lib/python3.9/site-packages/gensim/models/wrappers/dtmmodel.py:498: UserWarning: The parameter `num_words` is deprecated, will be removed in 4.0.0, use `topn` instead.\n",
      "  warnings.warn(\"The parameter `num_words` is deprecated, will be removed in 4.0.0, use `topn` instead.\")\n",
      "100%|██████████| 4/4 [00:00<00:00, 548.62it/s]\n"
     ]
    }
   ],
   "source": [
    "diversities = []\n",
    "for t in tqdm(range(4)):\n",
    "    diversities.append(\n",
    "        topic_diversity(topics=model.dtm_coherence(t))\n",
    "    )\n",
    "    \n",
    "diversities = np.array(diversities)"
   ]
  },
  {
   "cell_type": "code",
   "execution_count": 25,
   "id": "42d301fd-f588-4207-9355-b94396d512c4",
   "metadata": {},
   "outputs": [],
   "source": [
    "qualities = diversities * coherences"
   ]
  },
  {
   "cell_type": "code",
   "execution_count": 26,
   "id": "2f6a2a37-e4bd-4cc2-ad83-cb5f239f0edc",
   "metadata": {},
   "outputs": [
    {
     "data": {
      "text/plain": [
       "(0.2783073303166182, 0.005061625187473974)"
      ]
     },
     "execution_count": 26,
     "metadata": {},
     "output_type": "execute_result"
    }
   ],
   "source": [
    "qualities.mean(), qualities.std()"
   ]
  },
  {
   "cell_type": "code",
   "execution_count": 27,
   "id": "9f79ce43-b003-4d4d-994f-c2ef175e695b",
   "metadata": {},
   "outputs": [],
   "source": [
    "np.savez_compressed(\n",
    "    'dlda_stats.npz',\n",
    "    coherence=coherences,\n",
    "    diversity=diversities\n",
    ")"
   ]
  },
  {
   "cell_type": "markdown",
   "id": "50dfb53f-b5dc-4453-bc1d-d45631296583",
   "metadata": {},
   "source": [
    "## try to do some topic analysis"
   ]
  },
  {
   "cell_type": "code",
   "execution_count": 8,
   "id": "30eccd96-7c68-45e8-b82d-12f39362b1fe",
   "metadata": {},
   "outputs": [],
   "source": [
    "model = DtmModel.load('dtm_model_trained_t10_govslice')"
   ]
  },
  {
   "cell_type": "code",
   "execution_count": 9,
   "id": "36c36efb-8620-46d9-a2cf-56bf7dc5e735",
   "metadata": {},
   "outputs": [
    {
     "name": "stdout",
     "output_type": "stream",
     "text": [
      "['risk', 'management', 'bank', 'process', 'organization', 'control', 'internal', 'financial', 'institution', 'practice', 'information', 'credit', 'business', 'banking', 'new', 'disclosure', 'change', 'standard', 'supervisor', 'accounting']\n",
      "['job', 'worker', 'work', 'economy', 'new', 'high', 'education', 'year', 'benefit', 'return', 'technology', 'people', 'good', 'system', 'government', 'percent', 'time', 'social', 'income', 'text']\n",
      "['community', 'loan', 'bank', 'small', 'business', 'financial', 'credit', 'lending', 'consumer', 'development', 'institution', 'datum', 'income', 'program', 'help', 'mortgage', 'provide', 'local', 'area', 'information']\n",
      "['financial', 'risk', 'asset', 'liquidity', 'credit', 'bank', 'fund', 'security', 'investor', 'system', 'term', 'institution', 'crisis', 'return', 'debt', 'participant', 'central', 'funding', 'private', 'reserve']\n",
      "['policy', 'inflation', 'monetary', 'rate', 'price', 'central', 'bank', 'interest', 'economy', 'target', 'term', 'long', 'change', 'return', 'expectation', 'model', 'objective', 'rule', 'stability', 'time']\n",
      "['policy', 'rate', 'inflation', 'committee', 'monetary', 'federal', 'action', 'fomc', 'growth', 'long', 'term', 'percent', 'price', 'fund', 'financial', 'continue', 'remain', 'risk', 'stability', 'condition']\n",
      "['growth', 'price', 'rate', 'economy', 'increase', 'year', 'productivity', 'capital', 'investment', 'high', 'rise', 'recent', 'demand', 'percent', 'current', 'decline', 'change', 'country', 'long', 'account']\n",
      "['bank', 'capital', 'financial', 'banking', 'risk', 'firm', 'regulatory', 'large', 'system', 'regulation', 'institution', 'requirement', 'supervision', 'supervisory', 'approach', 'crisis', 'stress', 'supervisor', 'important', 'hold']\n",
      "['bank', 'financial', 'system', 'payment', 'banking', 'service', 'new', 'year', 'industry', 'change', 'check', 'institution', 'technology', 'business', 'provide', 'reserve', 'need', 'electronic', 'innovation', 'consolidation']\n",
      "['mortgage', 'loan', 'credit', 'rate', 'household', 'housing', 'year', 'percent', 'business', 'home', 'financial', 'income', 'price', 'low', 'high', 'borrower', 'interest', 'asset', 'increase', 'debt']\n"
     ]
    },
    {
     "name": "stderr",
     "output_type": "stream",
     "text": [
      "/home/users/amarvenu/miniconda3/envs/nlp/lib/python3.9/site-packages/gensim/models/wrappers/dtmmodel.py:498: UserWarning: The parameter `num_words` is deprecated, will be removed in 4.0.0, use `topn` instead.\n",
      "  warnings.warn(\"The parameter `num_words` is deprecated, will be removed in 4.0.0, use `topn` instead.\")\n"
     ]
    }
   ],
   "source": [
    "for topic in model.dtm_coherence(0):\n",
    "    print(topic)"
   ]
  },
  {
   "cell_type": "code",
   "execution_count": 36,
   "id": "cd3823b8-b6ca-4e5e-bea4-c4ba4abb8ab9",
   "metadata": {},
   "outputs": [],
   "source": [
    "def get_word_probs(word, topic, model):\n",
    "    prob_list = []\n",
    "    for t in range(4):\n",
    "        top50 = model.show_topic(topic, t, topn=100)\n",
    "        words = [x[1] for x in top50]\n",
    "        probs = [x[0] for x in top50]\n",
    "        prob_dict = dict(zip(words, probs))\n",
    "        prob_list.append(prob_dict[word])\n",
    "    return prob_list"
   ]
  },
  {
   "cell_type": "code",
   "execution_count": 53,
   "id": "6d8485e8-f915-4a39-9362-0ae50d92cc7b",
   "metadata": {},
   "outputs": [
    {
     "data": {
      "text/plain": [
       "[0.0026821391730801167,\n",
       " 0.002956780955036481,\n",
       " 0.0030299277446776776,\n",
       " 0.0030290798001043344]"
      ]
     },
     "execution_count": 53,
     "metadata": {},
     "output_type": "execute_result"
    }
   ],
   "source": [
    "get_word_probs('foreclosure', 9, model)"
   ]
  },
  {
   "cell_type": "code",
   "execution_count": 61,
   "id": "d4669e27-1e4e-4d50-ae23-51ae12a543e6",
   "metadata": {},
   "outputs": [],
   "source": [
    "plot_df = pd.DataFrame({\n",
    "    'credit': get_word_probs('credit', 9, model),\n",
    "    'security': get_word_probs('security', 3, model),\n",
    "    'foreclosure': get_word_probs('foreclosure', 9, model),\n",
    "    'subprime': get_word_probs('subprime', 9, model),\n",
    "    'labor': get_word_probs('labor', 1, model),\n",
    "    'technology': get_word_probs('technology', 1, model),\n",
    "    #'vol': get_word_probs('vol', 3, model),\n",
    "    'demand': get_word_probs('demand', 6, model),\n",
    "    'regulation': get_word_probs('regulation', 7, model),\n",
    "    'requirement': get_word_probs('requirement', 7, model),\n",
    "    'inflation': get_word_probs('inflation', 4, model),\n",
    "    'unemployment': get_word_probs('unemployment', 5, model),\n",
    "    'stress': get_word_probs('stress', 7, model),\n",
    "})\n",
    "plot_df.to_csv('dlda_evolve.csv', index=False)"
   ]
  },
  {
   "cell_type": "code",
   "execution_count": 59,
   "id": "16c35f99-5a81-483f-ad42-3cbe941d8b2e",
   "metadata": {},
   "outputs": [
    {
     "data": {
      "text/html": [
       "<div>\n",
       "<style scoped>\n",
       "    .dataframe tbody tr th:only-of-type {\n",
       "        vertical-align: middle;\n",
       "    }\n",
       "\n",
       "    .dataframe tbody tr th {\n",
       "        vertical-align: top;\n",
       "    }\n",
       "\n",
       "    .dataframe thead th {\n",
       "        text-align: right;\n",
       "    }\n",
       "</style>\n",
       "<table border=\"1\" class=\"dataframe\">\n",
       "  <thead>\n",
       "    <tr style=\"text-align: right;\">\n",
       "      <th></th>\n",
       "      <th>credit</th>\n",
       "      <th>security</th>\n",
       "      <th>foreclosure</th>\n",
       "      <th>subprime</th>\n",
       "      <th>labor</th>\n",
       "      <th>technology</th>\n",
       "      <th>demand</th>\n",
       "      <th>regulation</th>\n",
       "      <th>requirement</th>\n",
       "      <th>inflation</th>\n",
       "      <th>unemployment</th>\n",
       "      <th>stress</th>\n",
       "    </tr>\n",
       "  </thead>\n",
       "  <tbody>\n",
       "    <tr>\n",
       "      <th>0</th>\n",
       "      <td>0.015502</td>\n",
       "      <td>0.008266</td>\n",
       "      <td>0.002682</td>\n",
       "      <td>0.002564</td>\n",
       "      <td>0.003667</td>\n",
       "      <td>0.005076</td>\n",
       "      <td>0.006338</td>\n",
       "      <td>0.007419</td>\n",
       "      <td>0.006997</td>\n",
       "      <td>0.030547</td>\n",
       "      <td>0.006195</td>\n",
       "      <td>0.005613</td>\n",
       "    </tr>\n",
       "    <tr>\n",
       "      <th>1</th>\n",
       "      <td>0.015327</td>\n",
       "      <td>0.008222</td>\n",
       "      <td>0.002957</td>\n",
       "      <td>0.002791</td>\n",
       "      <td>0.004547</td>\n",
       "      <td>0.004069</td>\n",
       "      <td>0.006325</td>\n",
       "      <td>0.007986</td>\n",
       "      <td>0.008352</td>\n",
       "      <td>0.026354</td>\n",
       "      <td>0.006426</td>\n",
       "      <td>0.006402</td>\n",
       "    </tr>\n",
       "    <tr>\n",
       "      <th>2</th>\n",
       "      <td>0.012612</td>\n",
       "      <td>0.008092</td>\n",
       "      <td>0.003030</td>\n",
       "      <td>0.002803</td>\n",
       "      <td>0.006194</td>\n",
       "      <td>0.003256</td>\n",
       "      <td>0.006124</td>\n",
       "      <td>0.008908</td>\n",
       "      <td>0.009643</td>\n",
       "      <td>0.018721</td>\n",
       "      <td>0.006638</td>\n",
       "      <td>0.007672</td>\n",
       "    </tr>\n",
       "    <tr>\n",
       "      <th>3</th>\n",
       "      <td>0.010633</td>\n",
       "      <td>0.008039</td>\n",
       "      <td>0.003029</td>\n",
       "      <td>0.002780</td>\n",
       "      <td>0.007219</td>\n",
       "      <td>0.002873</td>\n",
       "      <td>0.005842</td>\n",
       "      <td>0.009221</td>\n",
       "      <td>0.009370</td>\n",
       "      <td>0.015976</td>\n",
       "      <td>0.006747</td>\n",
       "      <td>0.008688</td>\n",
       "    </tr>\n",
       "  </tbody>\n",
       "</table>\n",
       "</div>"
      ],
      "text/plain": [
       "     credit  security  foreclosure  subprime     labor  technology    demand  \\\n",
       "0  0.015502  0.008266     0.002682  0.002564  0.003667    0.005076  0.006338   \n",
       "1  0.015327  0.008222     0.002957  0.002791  0.004547    0.004069  0.006325   \n",
       "2  0.012612  0.008092     0.003030  0.002803  0.006194    0.003256  0.006124   \n",
       "3  0.010633  0.008039     0.003029  0.002780  0.007219    0.002873  0.005842   \n",
       "\n",
       "   regulation  requirement  inflation  unemployment    stress  \n",
       "0    0.007419     0.006997   0.030547      0.006195  0.005613  \n",
       "1    0.007986     0.008352   0.026354      0.006426  0.006402  \n",
       "2    0.008908     0.009643   0.018721      0.006638  0.007672  \n",
       "3    0.009221     0.009370   0.015976      0.006747  0.008688  "
      ]
     },
     "execution_count": 59,
     "metadata": {},
     "output_type": "execute_result"
    }
   ],
   "source": [
    "plot_df"
   ]
  },
  {
   "cell_type": "code",
   "execution_count": 60,
   "id": "d983f51a-c4db-496b-a03e-0eef1dab83ff",
   "metadata": {},
   "outputs": [
    {
     "data": {
      "text/plain": [
       "<Axes: >"
      ]
     },
     "execution_count": 60,
     "metadata": {},
     "output_type": "execute_result"
    },
    {
     "data": {
      "image/png": "[encoded data removed]",
      "text/plain": [
       "<Figure size 640x480 with 1 Axes>"
      ]
     },
     "metadata": {},
     "output_type": "display_data"
    }
   ],
   "source": [
    "plot_df.plot()"
   ]
  },
  {
   "cell_type": "code",
   "execution_count": null,
   "id": "2c85bbc3-3a2b-49df-9678-5c3d6eb4de7b",
   "metadata": {},
   "outputs": [],
   "source": []
  }
 ],
 "metadata": {
  "kernelspec": {
   "display_name": "nlp",
   "language": "python",
   "name": "nlp"
  },
  "language_info": {
   "codemirror_mode": {
    "name": "ipython",
    "version": 3
   },
   "file_extension": ".py",
   "mimetype": "text/x-python",
   "name": "python",
   "nbconvert_exporter": "python",
   "pygments_lexer": "ipython3",
   "version": "3.9.16"
  }
 },
 "nbformat": 4,
 "nbformat_minor": 5
}
