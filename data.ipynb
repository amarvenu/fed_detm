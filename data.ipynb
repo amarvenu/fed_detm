{
 "cells": [
  {
   "cell_type": "code",
   "execution_count": 73,
   "id": "dc2a03fe-3a1e-44b2-9163-f08b6fb012ad",
   "metadata": {},
   "outputs": [],
   "source": [
    "import pandas as pd\n",
    "from FedTools import FederalReserveMins, MonetaryPolicyCommittee\n",
    "import datetime\n",
    "import spacy\n",
    "from tqdm import tqdm"
   ]
  },
  {
   "cell_type": "code",
   "execution_count": 56,
   "id": "99ddb5c9-a4d5-4c02-bf72-09576a015a30",
   "metadata": {},
   "outputs": [],
   "source": [
    "speeches = pd.read_csv('data/fed_speeches_1996_2020.csv').dropna(subset=['date', 'text'])\n",
    "speeches['date'] = speeches['date'].apply(lambda x: datetime.datetime.strptime(str(int(x)), '%Y%m%d'))\n",
    "speeches['type'] = 'speech'"
   ]
  },
  {
   "cell_type": "code",
   "execution_count": 14,
   "id": "24f8c20c-510a-4e43-a5ff-66bb6a1f3eaf",
   "metadata": {},
   "outputs": [
    {
     "name": "stdout",
     "output_type": "stream",
     "text": [
      "Constructing links between 1994 and 2023\n",
      "Extracting the past 195 FOMC Statements.\n",
      "Retrieving articles.\n",
      "..................................................................................................................................................................................................."
     ]
    }
   ],
   "source": [
    "statements = MonetaryPolicyCommittee().find_statements()\n",
    "statements['type'] = 'fomc_statement'"
   ]
  },
  {
   "cell_type": "code",
   "execution_count": 60,
   "id": "12eeaa5e-ca1b-4811-8242-3ecbc6623647",
   "metadata": {},
   "outputs": [],
   "source": [
    "## let's stick with statements and speeches, since the minutes contain a lot of extra nonsense\n",
    "df = pd.concat([\n",
    "    statements.reset_index().rename({\"index\": \"date\", \"FOMC_Statements\": 'text'}, axis=1),\n",
    "    speeches[['date', 'text', 'type']]\n",
    "])"
   ]
  },
  {
   "cell_type": "code",
   "execution_count": 70,
   "id": "145ca6d4-4187-4ddd-8953-9ddab7cef42f",
   "metadata": {},
   "outputs": [],
   "source": [
    "model = spacy.load('en_core_web_sm')"
   ]
  },
  {
   "cell_type": "code",
   "execution_count": 82,
   "id": "d72f95f3-8e90-4b6f-8f6d-7912b3ea6ccb",
   "metadata": {},
   "outputs": [],
   "source": [
    "def prepro(text, model):\n",
    "    text = model(text.lower().strip())\n",
    "    \n",
    "    clean_text = []\n",
    "    for word in text:\n",
    "        # remove stopwords and words with odd punctuation\n",
    "        if (not word.is_stop) and (word.pos_ not in ['SYM', 'NUM', 'ADP', 'AUX', 'PROPN']) and (not word.is_punct):\n",
    "            clean_text.append(word.lemma_.strip())\n",
    "            \n",
    "    return ' '.join(clean_text)"
   ]
  },
  {
   "cell_type": "code",
   "execution_count": 83,
   "id": "55f6e537-107b-4c3c-b175-75f06fce1c26",
   "metadata": {},
   "outputs": [
    {
     "name": "stderr",
     "output_type": "stream",
     "text": [
      "100%|██████████████████████████████████████████████████████████████████████████████████████████████████████████████████████████████████████████████████| 1650/1650 [10:12<00:00,  2.69it/s]\n"
     ]
    }
   ],
   "source": [
    "cleans = []\n",
    "for t in tqdm(df['text']):\n",
    "    cleans.append(prepro(t, model))"
   ]
  },
  {
   "cell_type": "code",
   "execution_count": 86,
   "id": "8fa6a97a-037c-41cf-b7e4-9e39ddfd9dbb",
   "metadata": {},
   "outputs": [],
   "source": [
    "df['clean_text'] = cleans\n",
    "df.sort_values('date').reset_index().drop(columns=['index']).to_parquet('data/combined_clean.parquet')"
   ]
  },
  {
   "cell_type": "code",
   "execution_count": 93,
   "id": "41c975db-0495-4cb9-9f78-688a530274d9",
   "metadata": {},
   "outputs": [
    {
     "data": {
      "text/plain": [
       "(96,)"
      ]
     },
     "execution_count": 93,
     "metadata": {},
     "output_type": "execute_result"
    }
   ],
   "source": [
    "model('hello').vector.shape"
   ]
  },
  {
   "cell_type": "code",
   "execution_count": null,
   "id": "94d2f6d3-cd91-4d61-9795-d27d9c4230b0",
   "metadata": {},
   "outputs": [],
   "source": []
  }
 ],
 "metadata": {
  "kernelspec": {
   "display_name": "Python 3 (ipykernel)",
   "language": "python",
   "name": "python3"
  },
  "language_info": {
   "codemirror_mode": {
    "name": "ipython",
    "version": 3
   },
   "file_extension": ".py",
   "mimetype": "text/x-python",
   "name": "python",
   "nbconvert_exporter": "python",
   "pygments_lexer": "ipython3",
   "version": "3.9.15"
  }
 },
 "nbformat": 4,
 "nbformat_minor": 5
}
